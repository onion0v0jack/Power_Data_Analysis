{
 "cells": [
  {
   "cell_type": "code",
   "execution_count": 1,
   "metadata": {
    "collapsed": true
   },
   "outputs": [],
   "source": [
    "import pandas as pd\n",
    "import numpy as np\n",
    "Bike=pd.read_csv(\"power.csv\",header=None)\n",
    "DForecast=340"
   ]
  },
  {
   "cell_type": "code",
   "execution_count": 2,
   "metadata": {
    "collapsed": true
   },
   "outputs": [],
   "source": [
    "def preprocess(data,window):\n",
    "    matrix=data.as_matrix()\n",
    "    array = []\n",
    "    y=[]\n",
    "    #len(data)資料筆數\n",
    "    for index in range(len(matrix) - window):\n",
    "        array.append(matrix[index : index + window])\n",
    "        y.append(matrix[index +window])\n",
    "    array=np.array(array)\n",
    "    y=np.array(y)\n",
    "    return array,y"
   ]
  },
  {
   "cell_type": "code",
   "execution_count": 4,
   "metadata": {
    "collapsed": true
   },
   "outputs": [],
   "source": [
    "train=Bike.iloc[((DForecast-1-14)*96):((DForecast-1)*96)]\n",
    "test =Bike.iloc[((DForecast-1-1)*96):(DForecast*96)]\n",
    "mean =np.mean(train)[0]\n",
    "std  =np.std(train)[0]"
   ]
  },
  {
   "cell_type": "code",
   "execution_count": 7,
   "metadata": {
    "collapsed": false
   },
   "outputs": [
    {
     "data": {
      "text/plain": [
       "(192, 1)"
      ]
     },
     "execution_count": 7,
     "metadata": {},
     "output_type": "execute_result"
    }
   ],
   "source": [
    "test.shape"
   ]
  },
  {
   "cell_type": "code",
   "execution_count": 338,
   "metadata": {
    "collapsed": true
   },
   "outputs": [],
   "source": [
    "def normalize(value):\n",
    "    result=(value-mean)/std\n",
    "    return result\n",
    "def normalize_inverse(value):\n",
    "    result=value*std+mean\n",
    "    return result"
   ]
  },
  {
   "cell_type": "code",
   "execution_count": 339,
   "metadata": {
    "collapsed": true
   },
   "outputs": [],
   "source": [
    "all_data=normalize(Bike)"
   ]
  },
  {
   "cell_type": "code",
   "execution_count": 340,
   "metadata": {
    "collapsed": false
   },
   "outputs": [
    {
     "data": {
      "text/plain": [
       "(34944, 96, 1)"
      ]
     },
     "execution_count": 340,
     "metadata": {},
     "output_type": "execute_result"
    }
   ],
   "source": [
    "x_all_data,y_all_data=preprocess(all_data,96)\n",
    "x_all_data.shape"
   ]
  },
  {
   "cell_type": "code",
   "execution_count": 341,
   "metadata": {
    "collapsed": true
   },
   "outputs": [],
   "source": [
    "x_all_data=x_all_data.reshape(x_all_data.shape[0],1,x_all_data.shape[1])"
   ]
  },
  {
   "cell_type": "code",
   "execution_count": 342,
   "metadata": {
    "collapsed": true
   },
   "outputs": [],
   "source": [
    "train_normalize=normalize(train)\n",
    "test_normalize=normalize(test)"
   ]
  },
  {
   "cell_type": "code",
   "execution_count": 343,
   "metadata": {
    "collapsed": true
   },
   "outputs": [],
   "source": [
    "x_train,y_train=preprocess(train_normalize,96)\n",
    "x_train=x_train.reshape(x_train.shape[0],1,x_train.shape[1])\n",
    "y_train=y_train.reshape(y_train.shape[0])"
   ]
  },
  {
   "cell_type": "code",
   "execution_count": 344,
   "metadata": {
    "collapsed": false
   },
   "outputs": [],
   "source": [
    "x_test,y_test=preprocess(test_normalize,96)\n",
    "x_test=x_test.reshape(x_test.shape[0],1,x_test.shape[1])\n",
    "y_test=y_test.reshape(y_test.shape[0])"
   ]
  },
  {
   "cell_type": "code",
   "execution_count": 345,
   "metadata": {
    "collapsed": true
   },
   "outputs": [],
   "source": [
    "import tensorflow as tf"
   ]
  },
  {
   "cell_type": "code",
   "execution_count": 346,
   "metadata": {
    "collapsed": true
   },
   "outputs": [],
   "source": [
    "def reset_graph(seed=50):\n",
    "    tf.reset_default_graph()\n",
    "    tf.set_random_seed(seed)\n",
    "    np.random.seed(seed)"
   ]
  },
  {
   "cell_type": "code",
   "execution_count": 347,
   "metadata": {
    "collapsed": true
   },
   "outputs": [],
   "source": [
    "reset_graph()\n",
    "n_steps = 1\n",
    "n_inputs = 96\n",
    "n_neurons = 5\n",
    "n_outputs = 1\n",
    "n_layers = 1\n",
    "keep_prob = 0.5\n",
    "\n",
    "X = tf.placeholder(tf.float32, [None, n_steps, n_inputs],name='X')\n",
    "y = tf.placeholder(tf.float32, [None, n_steps, n_outputs],name='y')\n",
    "\n",
    "lstm_cells = [tf.contrib.rnn.BasicLSTMCell(num_units=n_neurons)\n",
    "              for layer in range(n_layers)]\n",
    "lstm_drop = [tf.contrib.rnn.DropoutWrapper(cell, state_keep_prob=keep_prob)\n",
    "              for cell in lstm_cells]\n",
    "multi_cell = tf.contrib.rnn.MultiRNNCell(lstm_drop)\n",
    "outputs_LSTM, states = tf.nn.dynamic_rnn(multi_cell, X, dtype=tf.float32)\n",
    "outputs = tf.layers.dense(outputs_LSTM, n_outputs)"
   ]
  },
  {
   "cell_type": "code",
   "execution_count": 348,
   "metadata": {
    "collapsed": true
   },
   "outputs": [],
   "source": [
    "learning_rate = 0.0001\n",
    "\n",
    "loss = tf.reduce_mean(tf.square(outputs - y)) # MSE\n",
    "optimizer = tf.train.AdamOptimizer(learning_rate=learning_rate)\n",
    "training_op = optimizer.minimize(loss)\n",
    "\n",
    "init = tf.global_variables_initializer()"
   ]
  },
  {
   "cell_type": "code",
   "execution_count": 349,
   "metadata": {
    "collapsed": false
   },
   "outputs": [],
   "source": [
    "n_epochs = 500 #疊代次數n_epochs*(trainshape/batch_size)次\n",
    "batch_size = 96 #一次丟batch_size個\n",
    "data_size = x_train.shape[0]\n",
    "\n",
    "with tf.Session() as sess:\n",
    "    init.run()\n",
    "    for epoch in range(n_epochs):\n",
    "        all_range = np.array(range(data_size))\n",
    "        np.random.shuffle(all_range)\n",
    "        for iteration in range( data_size // batch_size):\n",
    "            n_batch = all_range[iteration*batch_size:(iteration+1)*batch_size]\n",
    "            x_batch = x_train[n_batch]\n",
    "            y_batch = y_train[n_batch].reshape(-1, n_steps, n_outputs)\n",
    "            sess.run(training_op, feed_dict={X: x_batch, y: y_batch})\n",
    "    \n",
    "    all_pred = sess.run(outputs, feed_dict={X: x_test})\n",
    "    values = sess.run(tf.trainable_variables())\n",
    "    all_state = sess.run(states, feed_dict={X: x_all_data})"
   ]
  },
  {
   "cell_type": "code",
   "execution_count": 350,
   "metadata": {
    "collapsed": false
   },
   "outputs": [],
   "source": [
    "y_pred=all_pred[:,:,:].reshape(96,1)#"
   ]
  },
  {
   "cell_type": "code",
   "execution_count": 351,
   "metadata": {
    "collapsed": false
   },
   "outputs": [],
   "source": [
    "Y=normalize_inverse(y_pred)#"
   ]
  },
  {
   "cell_type": "code",
   "execution_count": 352,
   "metadata": {
    "collapsed": false,
    "scrolled": false
   },
   "outputs": [
    {
     "data": {
      "image/png": "[encoded data removed]",
      "text/plain": [
       "<matplotlib.figure.Figure at 0x270d17fbc50>"
      ]
     },
     "metadata": {},
     "output_type": "display_data"
    },
    {
     "name": "stdout",
     "output_type": "stream",
     "text": [
      "RMSE of Prediction : 72.9387619977\n",
      "NSR: 0.0745644217341\n"
     ]
    }
   ],
   "source": [
    "import matplotlib.pyplot as plt\n",
    "plt.figure(figsize=(14,8))\n",
    "x=np.array(list(range(1,(96+1))))\n",
    "plt.plot(x, Y, 'b', label='Prediction of day '+str(DForecast))\n",
    "plt.plot(x,test[96:] , 'g', label='Real data of day '+str(DForecast))\n",
    "plt.xlim(np.min(x), np.max(x)); plt.ylim(np.min(Y)-100, np.max(Y)+100)\n",
    "plt.legend()\n",
    "plt.xlabel('time per 15 minutes'); plt.ylabel('value')\n",
    "plt.title(\"Prediction of Day \"+str(DForecast)+\" by LSTM\")\n",
    "plt.grid()\n",
    "plt.show()\n",
    "\n",
    "from sklearn.metrics import mean_squared_error\n",
    "print(\"RMSE of Prediction\",\":\",np.sqrt(mean_squared_error(Y,test[96:])))\n",
    "print(\"NSR:\",np.sqrt(mean_squared_error(Y,test[96:]))/np.mean(test[96:]).values[0])"
   ]
  },
  {
   "cell_type": "code",
   "execution_count": null,
   "metadata": {
    "collapsed": true
   },
   "outputs": [],
   "source": []
  },
  {
   "cell_type": "markdown",
   "metadata": {},
   "source": [
    "#### 每一類抽樣去跑"
   ]
  },
  {
   "cell_type": "code",
   "execution_count": 2,
   "metadata": {
    "collapsed": true
   },
   "outputs": [],
   "source": [
    "import pandas as pd\n",
    "import numpy as np\n",
    "import tensorflow as tf\n",
    "from sklearn.metrics import mean_squared_error\n",
    "Data=pd.read_csv(\"power.csv\",header=None)\n",
    "ArfimaPredictclass1=pd.read_csv(\"ArfimaPredictclass1.csv\")\n",
    "ArfimaPredictclass2=pd.read_csv(\"ArfimaPredictclass2.csv\")\n",
    "ArfimaPredictclass3=pd.read_csv(\"ArfimaPredictclass3.csv\")\n",
    "ArfimaPredictclass4=pd.read_csv(\"ArfimaPredictclass4.csv\")\n",
    "ArfimaPredictclass5=pd.read_csv(\"ArfimaPredictclass5.csv\")\n",
    "def preprocess(data,window):\n",
    "    matrix=data.as_matrix()\n",
    "    array = []\n",
    "    y=[]\n",
    "    #len(data)資料筆數\n",
    "    for index in range(len(matrix) - window):\n",
    "        array.append(matrix[index : index + window])\n",
    "        y.append(matrix[index +window])\n",
    "    array=np.array(array)\n",
    "    y=np.array(y)\n",
    "    return array,y\n",
    "def normalize(value):\n",
    "    result=(value-mean)/std\n",
    "    return result\n",
    "def normalize_inverse(value):\n",
    "    result=value*std+mean\n",
    "    return result\n",
    "def reset_graph(seed=50):\n",
    "    tf.reset_default_graph()\n",
    "    tf.set_random_seed(seed)\n",
    "    np.random.seed(seed)"
   ]
  },
  {
   "cell_type": "code",
   "execution_count": 74,
   "metadata": {
    "collapsed": false,
    "scrolled": true
   },
   "outputs": [],
   "source": [
    "DClass1=[int(x) for x in list(ArfimaPredictclass1.columns)]\n",
    "DClass2=[int(x) for x in list(ArfimaPredictclass2.columns)]\n",
    "DClass3=[int(x) for x in list(ArfimaPredictclass3.columns)]\n",
    "DClass4=[int(x) for x in list(ArfimaPredictclass4.columns)]\n",
    "DClass5=[int(x) for x in list(ArfimaPredictclass5.columns)]\n",
    "DClass1to5=[DClass1,DClass2,DClass3,DClass4,DClass5]"
   ]
  },
  {
   "cell_type": "code",
   "execution_count": 75,
   "metadata": {
    "collapsed": false,
    "scrolled": true
   },
   "outputs": [
    {
     "name": "stdout",
     "output_type": "stream",
     "text": [
      "Class 1 抽樣天數如下:\n",
      "Day 18\n",
      "Day 47\n",
      "Day 235\n",
      "Day 249\n",
      "Day 256\n",
      "Day 340\n",
      "Class 1\n",
      "平均NSR(%) 3.65201540574\n",
      "平均RMSE 36.2382785836\n",
      "Class 2 抽樣天數如下:\n",
      "Day 8\n",
      "Day 23\n",
      "Day 38\n",
      "Day 42\n",
      "Day 45\n",
      "Day 69\n",
      "Day 70\n",
      "Day 71\n",
      "Day 76\n",
      "Day 84\n",
      "Day 86\n",
      "Day 92\n",
      "Day 98\n",
      "Day 104\n",
      "Day 106\n",
      "Day 107\n",
      "Day 170\n",
      "Day 232\n",
      "Day 238\n",
      "Day 245\n",
      "Day 248\n",
      "Day 251\n",
      "Day 252\n",
      "Day 255\n",
      "Day 262\n",
      "Day 265\n",
      "Day 267\n",
      "Day 268\n",
      "Day 273\n",
      "Day 274\n",
      "Day 275\n",
      "Day 279\n",
      "Day 286\n",
      "Day 287\n",
      "Day 296\n",
      "Day 309\n",
      "Day 315\n",
      "Day 318\n",
      "Day 325\n",
      "Day 356\n",
      "Day 357\n",
      "Class 2\n",
      "平均NSR(%) 2.84099233279\n",
      "平均RMSE 35.8927208359\n",
      "Class 3 抽樣天數如下:\n",
      "Day 13\n",
      "Day 15\n",
      "Day 29\n",
      "Day 44\n",
      "Day 48\n",
      "Day 57\n",
      "Day 83\n",
      "Day 323\n",
      "Day 329\n",
      "Day 338\n",
      "Day 342\n",
      "Day 349\n",
      "Class 3\n",
      "平均NSR(%) 3.50306253645\n",
      "平均RMSE 46.6731673675\n",
      "Class 4 抽樣天數如下:\n",
      "Day 26\n",
      "Day 60\n",
      "Day 68\n",
      "Day 75\n",
      "Day 103\n",
      "Day 123\n",
      "Day 137\n",
      "Day 138\n",
      "Day 145\n",
      "Day 152\n",
      "Day 158\n",
      "Day 159\n",
      "Day 173\n",
      "Day 179\n",
      "Day 180\n",
      "Day 194\n",
      "Day 207\n",
      "Day 242\n",
      "Day 264\n",
      "Day 278\n",
      "Day 284\n",
      "Day 298\n",
      "Day 312\n",
      "Day 313\n",
      "Day 326\n",
      "Day 341\n",
      "Day 348\n",
      "Day 354\n",
      "Day 360\n",
      "Class 4\n",
      "平均NSR(%) 2.50176364026\n",
      "平均RMSE 22.6061790532\n",
      "Class 5 抽樣天數如下:\n",
      "Day 94\n",
      "Day 112\n",
      "Day 118\n",
      "Day 119\n",
      "Day 122\n",
      "Day 126\n",
      "Day 133\n",
      "Day 136\n",
      "Day 140\n",
      "Day 142\n",
      "Day 143\n",
      "Day 150\n",
      "Day 161\n",
      "Day 167\n",
      "Day 174\n",
      "Day 176\n",
      "Day 183\n",
      "Day 188\n",
      "Day 195\n",
      "Day 203\n",
      "Day 205\n",
      "Day 206\n",
      "Day 216\n",
      "Day 219\n",
      "Day 220\n",
      "Day 226\n",
      "Day 290\n",
      "Day 364\n",
      "Class 5\n",
      "平均NSR(%) 2.60791193864\n",
      "平均RMSE 30.2741366288\n"
     ]
    }
   ],
   "source": [
    "for Class in range(5):\n",
    "    DClass=DClass1to5[Class]\n",
    "    #DClass=list(filter(lambda x: x>7, DClass))\n",
    "    ClassofForecast=Class+1\n",
    "    RMSEpredictionClass, NSRClass=[],[]\n",
    "    print(\"Class\",ClassofForecast,\"抽樣天數如下:\")\n",
    "    for day in range(len(DClass)):\n",
    "        DForecast=DClass[day]\n",
    "\n",
    "        train=Data.iloc[:((DForecast-1)*96)]#Data.iloc[((DForecast-1-7)*96):((DForecast-1)*96)]\n",
    "        test =Data.iloc[((DForecast-1-1)*96):(DForecast*96)]\n",
    "        mean,std=np.mean(train)[0], np.std(train)[0]\n",
    "\n",
    "        all_data=normalize(Data)\n",
    "        x_all_data,y_all_data=preprocess(all_data,96)\n",
    "        x_all_data=x_all_data.reshape(x_all_data.shape[0],1,x_all_data.shape[1])\n",
    "        train_normalize,test_normalize=normalize(train), normalize(test)\n",
    "        x_train,y_train=preprocess(train_normalize,96)\n",
    "        x_train,y_train=x_train.reshape(x_train.shape[0],1,x_train.shape[1]), y_train.reshape(y_train.shape[0])\n",
    "        x_test,y_test=preprocess(test_normalize,96)\n",
    "        x_test,y_test=x_test.reshape(x_test.shape[0],1,x_test.shape[1]), y_test.reshape(y_test.shape[0])\n",
    "\n",
    "        reset_graph()\n",
    "        n_steps = 1\n",
    "        n_inputs = 96\n",
    "        n_neurons = 5\n",
    "        n_outputs = 1\n",
    "        n_layers = 1\n",
    "        keep_prob = 0.5\n",
    "\n",
    "        X = tf.placeholder(tf.float32, [None, n_steps, n_inputs],name='X')\n",
    "        y = tf.placeholder(tf.float32, [None, n_steps, n_outputs],name='y')\n",
    "\n",
    "        lstm_cells = [tf.contrib.rnn.BasicLSTMCell(num_units=n_neurons)\n",
    "                      for layer in range(n_layers)]\n",
    "        lstm_drop = [tf.contrib.rnn.DropoutWrapper(cell, state_keep_prob=keep_prob)\n",
    "                      for cell in lstm_cells]\n",
    "        multi_cell = tf.contrib.rnn.MultiRNNCell(lstm_drop)\n",
    "        outputs_LSTM, states = tf.nn.dynamic_rnn(multi_cell, X, dtype=tf.float32)\n",
    "        outputs = tf.layers.dense(outputs_LSTM, n_outputs)\n",
    "\n",
    "        learning_rate = 0.0001\n",
    "\n",
    "        loss = tf.reduce_mean(tf.square(outputs - y)) # MSE\n",
    "        optimizer = tf.train.AdamOptimizer(learning_rate=learning_rate)\n",
    "        training_op = optimizer.minimize(loss)\n",
    "\n",
    "        init = tf.global_variables_initializer()\n",
    "\n",
    "        n_epochs = 500 #疊代次數n_epochs*(trainshape/batch_size)次\n",
    "        batch_size = 96 #一次丟batch_size個\n",
    "        data_size = x_train.shape[0]\n",
    "\n",
    "        with tf.Session() as sess:\n",
    "            init.run()\n",
    "            for epoch in range(n_epochs):\n",
    "                all_range = np.array(range(data_size))\n",
    "                np.random.shuffle(all_range)\n",
    "                for iteration in range( data_size // batch_size):\n",
    "                    n_batch = all_range[iteration*batch_size:(iteration+1)*batch_size]\n",
    "                    x_batch = x_train[n_batch]\n",
    "                    y_batch = y_train[n_batch].reshape(-1, n_steps, n_outputs)\n",
    "                    sess.run(training_op, feed_dict={X: x_batch, y: y_batch})\n",
    "\n",
    "            all_pred = sess.run(outputs, feed_dict={X: x_test})\n",
    "            values = sess.run(tf.trainable_variables())\n",
    "            all_state = sess.run(states, feed_dict={X: x_all_data})\n",
    "        y_pred=all_pred[:,:,:].reshape(96,1)#\n",
    "        Y=normalize_inverse(y_pred)#\n",
    "\n",
    "        NSR=np.sqrt(mean_squared_error(Y,test[96:]))/np.mean(test[96:]).values[0] #雜訊訊號比\n",
    "        RMSEprediction=np.sqrt(mean_squared_error(Y,test[96:])) #RMSE\n",
    "        print(\"Day\",str(DForecast))\n",
    "        RMSEpredictionClass.append(RMSEprediction)\n",
    "        NSRClass.append(NSR)\n",
    "    print(\"Class\",ClassofForecast)\n",
    "    print(\"平均NSR(%)\",np.mean(NSRClass)*100)\n",
    "    print(\"平均RMSE\",np.mean(RMSEpredictionClass))"
   ]
  },
  {
   "cell_type": "code",
   "execution_count": 76,
   "metadata": {
    "collapsed": false
   },
   "outputs": [
    {
     "data": {
      "text/plain": [
       "datetime.datetime(2018, 3, 28, 6, 7, 55, 509601)"
      ]
     },
     "execution_count": 76,
     "metadata": {},
     "output_type": "execute_result"
    }
   ],
   "source": [
    "import datetime\n",
    "datetime.datetime.now() #跑了12個半小時= ="
   ]
  },
  {
   "cell_type": "code",
   "execution_count": 1,
   "metadata": {
    "collapsed": false
   },
   "outputs": [
    {
     "name": "stdout",
     "output_type": "stream",
     "text": [
      "2018-03-28 16:17:23.942422\n"
     ]
    }
   ],
   "source": [
    "import datetime\n",
    "print(datetime.datetime.now()) #跑了12個半小時= ="
   ]
  },
  {
   "cell_type": "markdown",
   "metadata": {},
   "source": [
    "#### 只用來預測某一天"
   ]
  },
  {
   "cell_type": "code",
   "execution_count": 5,
   "metadata": {
    "collapsed": false
   },
   "outputs": [
    {
     "name": "stdout",
     "output_type": "stream",
     "text": [
      "Day 251\n",
      "RMSE of Prediction: 73.9639874889\n",
      "NSR: 0.059017253322\n"
     ]
    }
   ],
   "source": [
    "DForecast=251\n",
    "\n",
    "train=Data.iloc[((DForecast-1-14)*96):((DForecast-1)*96)]\n",
    "test =Data.iloc[((DForecast-1-1)*96):(DForecast*96)]\n",
    "mean,std=np.mean(train)[0], np.std(train)[0]\n",
    "\n",
    "all_data=normalize(Data)\n",
    "x_all_data,y_all_data=preprocess(all_data,96)\n",
    "x_all_data=x_all_data.reshape(x_all_data.shape[0],1,x_all_data.shape[1])\n",
    "train_normalize,test_normalize=normalize(train), normalize(test)\n",
    "x_train,y_train=preprocess(train_normalize,96)\n",
    "x_train,y_train=x_train.reshape(x_train.shape[0],1,x_train.shape[1]), y_train.reshape(y_train.shape[0])\n",
    "x_test,y_test=preprocess(test_normalize,96)\n",
    "x_test,y_test=x_test.reshape(x_test.shape[0],1,x_test.shape[1]), y_test.reshape(y_test.shape[0])\n",
    "\n",
    "reset_graph()\n",
    "n_steps = 1\n",
    "n_inputs = 96\n",
    "n_neurons = 5\n",
    "n_outputs = 1\n",
    "n_layers = 1\n",
    "keep_prob = 0.5\n",
    "\n",
    "X = tf.placeholder(tf.float32, [None, n_steps, n_inputs],name='X')\n",
    "y = tf.placeholder(tf.float32, [None, n_steps, n_outputs],name='y')\n",
    "\n",
    "lstm_cells = [tf.contrib.rnn.BasicLSTMCell(num_units=n_neurons)\n",
    "              for layer in range(n_layers)]\n",
    "lstm_drop = [tf.contrib.rnn.DropoutWrapper(cell, state_keep_prob=keep_prob)\n",
    "              for cell in lstm_cells]\n",
    "multi_cell = tf.contrib.rnn.MultiRNNCell(lstm_drop)\n",
    "outputs_LSTM, states = tf.nn.dynamic_rnn(multi_cell, X, dtype=tf.float32)\n",
    "outputs = tf.layers.dense(outputs_LSTM, n_outputs)\n",
    "\n",
    "learning_rate = 0.0001\n",
    "\n",
    "loss = tf.reduce_mean(tf.square(outputs - y)) # MSE\n",
    "optimizer = tf.train.AdamOptimizer(learning_rate=learning_rate)\n",
    "training_op = optimizer.minimize(loss)\n",
    "\n",
    "init = tf.global_variables_initializer()\n",
    "\n",
    "n_epochs = 500 #疊代次數n_epochs*(trainshape/batch_size)次\n",
    "batch_size = 96 #一次丟batch_size個\n",
    "data_size = x_train.shape[0]\n",
    "\n",
    "with tf.Session() as sess:\n",
    "    init.run()\n",
    "    for epoch in range(n_epochs):\n",
    "        all_range = np.array(range(data_size))\n",
    "        np.random.shuffle(all_range)\n",
    "        for iteration in range( data_size // batch_size):\n",
    "            n_batch = all_range[iteration*batch_size:(iteration+1)*batch_size]\n",
    "            x_batch = x_train[n_batch]\n",
    "            y_batch = y_train[n_batch].reshape(-1, n_steps, n_outputs)\n",
    "            sess.run(training_op, feed_dict={X: x_batch, y: y_batch})\n",
    "    \n",
    "    all_pred = sess.run(outputs, feed_dict={X: x_test})\n",
    "    values = sess.run(tf.trainable_variables())\n",
    "    all_state = sess.run(states, feed_dict={X: x_all_data})\n",
    "y_pred=all_pred[:,:,:].reshape(96,1)#\n",
    "Y=normalize_inverse(y_pred)#\n",
    "\n",
    "NSR=np.sqrt(mean_squared_error(Y,test[96:]))/np.mean(test[96:]).values[0] #雜訊訊號比\n",
    "RMSEprediction=np.sqrt(mean_squared_error(Y,test[96:])) #RMSE\n",
    "print(\"Day\",str(DForecast))\n",
    "print(\"RMSE of Prediction:\",RMSEprediction)\n",
    "print(\"NSR:\",NSR)"
   ]
  },
  {
   "cell_type": "code",
   "execution_count": null,
   "metadata": {
    "collapsed": true
   },
   "outputs": [],
   "source": []
  },
  {
   "cell_type": "code",
   "execution_count": null,
   "metadata": {
    "collapsed": true
   },
   "outputs": [],
   "source": []
  },
  {
   "cell_type": "code",
   "execution_count": null,
   "metadata": {
    "collapsed": true
   },
   "outputs": [],
   "source": []
  }
 ],
 "metadata": {
  "anaconda-cloud": {},
  "kernelspec": {
   "display_name": "Python [default]",
   "language": "python",
   "name": "python3"
  },
  "language_info": {
   "codemirror_mode": {
    "name": "ipython",
    "version": 3
   },
   "file_extension": ".py",
   "mimetype": "text/x-python",
   "name": "python",
   "nbconvert_exporter": "python",
   "pygments_lexer": "ipython3",
   "version": "3.5.2"
  }
 },
 "nbformat": 4,
 "nbformat_minor": 2
}
